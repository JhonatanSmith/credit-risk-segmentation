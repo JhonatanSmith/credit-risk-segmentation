{
 "cells": [
  {
   "cell_type": "markdown",
   "metadata": {
    "vscode": {
     "languageId": "plaintext"
    }
   },
   "source": [
    "# Features selection\n",
    "\n",
    "En este apartado se discute el modelado de la info. Escencialmente, que vamos a analizar con la informacion ya preprocesada. Para este ejercicio vamos a tomar de referencia el df de prueba quese ha preprocesado, realziar algunas pruebas de correlacion, reduccion de dimensionalidad y demas."
   ]
  },
  {
   "cell_type": "code",
   "execution_count": 2,
   "metadata": {},
   "outputs": [],
   "source": [
    "# External libraries\n",
    "import pandas as pd\n",
    "import numpy as np\n",
    "import janitor\n",
    "import sys\n",
    "import os\n",
    "import matplotlib.pyplot as plt\n",
    "import seaborn as sns\n",
    "\n",
    "# Features engineersing\n",
    "from sklearn.preprocessing import StandardScaler\n",
    "\n",
    "# Own libraries\n",
    "sys.path.append(os.path.abspath(\"../scripts\"))\n",
    "import utils"
   ]
  },
  {
   "cell_type": "code",
   "execution_count": 3,
   "metadata": {},
   "outputs": [
    {
     "data": {
      "text/plain": [
       "(1949, 28)"
      ]
     },
     "execution_count": 3,
     "metadata": {},
     "output_type": "execute_result"
    }
   ],
   "source": [
    "# reading files\n",
    "test = pd.read_csv('../data/processed/test_processed.csv')\n",
    "train = pd.read_csv('../data/processed/train_processed.csv')\n",
    "train, categoricas, continuas = utils.identificacion_categoricas_continuas(train, threshold=15)\n",
    "train.shape"
   ]
  },
  {
   "cell_type": "code",
   "execution_count": 5,
   "metadata": {},
   "outputs": [
    {
     "data": {
      "text/plain": [
       "Index(['id_cliente', 'fecha_desembolso', 'incumplimiento', 'tipo_cliente',\n",
       "       'desv_retiros_atm_12m', 'monto_min_transado_1m',\n",
       "       'monto_min_transado_2m', 'desv_recargas_pse_12m',\n",
       "       'prom_retiros_atm_12m', 'version_sistema_operativo',\n",
       "       'cupo_disp_rotativo', 'meses_cancel_telcos',\n",
       "       'porcentaje_productos_48meses_total',\n",
       "       'meses_apertura_ultimo_prod_total', 'meses_apertura_telcos',\n",
       "       'meses_apertura_rotativo', 'porcentaje_cartera_vencida_telcos',\n",
       "       'saldo_prom_rotativo', 'uso_total_prod_3m_rotativo',\n",
       "       'cupo_max_rotativo', 'part_ahorro_total',\n",
       "       'pct_productos_cerrados_rotativo', 'meses_apertura_ahorro',\n",
       "       'productos_abiertos_ahorro', 'saldo_total_9_meses_rotativo',\n",
       "       'cancel_pos_12m', 'ponderacion_reportes_al_dia_18m_total',\n",
       "       'ponderacion_24m_rotativo'],\n",
       "      dtype='object')"
      ]
     },
     "execution_count": 5,
     "metadata": {},
     "output_type": "execute_result"
    }
   ],
   "source": [
    "train.columns"
   ]
  },
  {
   "cell_type": "code",
   "execution_count": 181,
   "metadata": {},
   "outputs": [
    {
     "data": {
      "text/plain": [
       "tipo_cliente\n",
       "adicion     1623\n",
       "objetivo     326\n",
       "Name: count, dtype: int64"
      ]
     },
     "execution_count": 181,
     "metadata": {},
     "output_type": "execute_result"
    }
   ],
   "source": [
    "train[\"tipo_cliente\"].value_counts()"
   ]
  },
  {
   "cell_type": "markdown",
   "metadata": {},
   "source": [
    "`Un gran dilema...`\n",
    "\n",
    "¿Tomar o no en cuenta la totalidad de los 1623 datos de adicion? Esto podria afectar de manera positiva (o no) el rendimiento del modelo. Probemos ambos caminos..."
   ]
  },
  {
   "cell_type": "code",
   "execution_count": 182,
   "metadata": {},
   "outputs": [
    {
     "name": "stdout",
     "output_type": "stream",
     "text": [
      "(1949, 28)\n",
      "(489, 28)\n"
     ]
    }
   ],
   "source": [
    "def balanceo_categorias(df): # funcion al modulo utils\n",
    "    objetivo = df[df['tipo_cliente'] == 'objetivo']\n",
    "    adicion = df[df['tipo_cliente'] == 'adicion']\n",
    "    n =  int(np.ceil(0.5*objetivo.shape[0]))\n",
    "    muestra = adicion.sample(n, random_state=1998)\n",
    "    return pd.concat([objetivo, muestra])\n",
    "print(train.shape)\n",
    "train_sub = balanceo_categorias(train)\n",
    "print(train_sub.shape)"
   ]
  },
  {
   "cell_type": "code",
   "execution_count": 183,
   "metadata": {},
   "outputs": [
    {
     "name": "stdout",
     "output_type": "stream",
     "text": [
      "Correlación entre ponderacion_reportes_al_dia_18m_total e incumplimiento: -0.21\n",
      "Correlación entre porcentaje_cartera_vencida_telcos e incumplimiento: 0.16\n",
      "Correlación entre ponderacion_24m_rotativo e incumplimiento: -0.16\n",
      "Correlación entre uso_total_prod_3m_rotativo e incumplimiento: 0.14\n",
      "Correlación entre cupo_disp_rotativo e incumplimiento: -0.12\n",
      "Correlación entre pct_productos_cerrados_rotativo e incumplimiento: -0.09\n",
      "Correlación entre porcentaje_productos_48meses_total e incumplimiento: 0.07\n",
      "Correlación entre desv_retiros_atm_12m e incumplimiento: 0.07\n",
      "Correlación entre cupo_max_rotativo e incumplimiento: -0.07\n",
      "Correlación entre meses_apertura_rotativo e incumplimiento: -0.06\n",
      "Correlación entre part_ahorro_total e incumplimiento: -0.05\n",
      "Correlación entre meses_cancel_telcos e incumplimiento: -0.05\n",
      "Correlación entre meses_apertura_telcos e incumplimiento: -0.05\n",
      "Correlación entre desv_recargas_pse_12m e incumplimiento: 0.05\n",
      "Correlación entre prom_retiros_atm_12m e incumplimiento: 0.04\n",
      "Correlación entre id_cliente e incumplimiento: -0.03\n",
      "Correlación entre saldo_prom_rotativo e incumplimiento: -0.03\n",
      "Correlación entre cancel_pos_12m e incumplimiento: -0.03\n",
      "Correlación entre meses_apertura_ultimo_prod_total e incumplimiento: -0.02\n",
      "Correlación entre monto_min_transado_2m e incumplimiento: 0.02\n",
      "Correlación entre saldo_total_9_meses_rotativo e incumplimiento: -0.02\n",
      "Correlación entre monto_min_transado_1m e incumplimiento: -0.01\n",
      "Correlación entre meses_apertura_ahorro e incumplimiento: 0.00\n"
     ]
    }
   ],
   "source": [
    "from scipy.stats import pointbiserialr\n",
    "\n",
    "correlaciones = {}\n",
    "\n",
    "for col in continuas:\n",
    "    coef, _ = pointbiserialr(train[col], train['incumplimiento'])\n",
    "    correlaciones[col] = coef\n",
    "\n",
    "correlaciones_ordenadas = dict(sorted(correlaciones.items(), key=lambda item: abs(item[1]), reverse=True))\n",
    "\n",
    "# Imprimir las variables ordenadas por su correlación con incumplimiento\n",
    "for var, coef in correlaciones_ordenadas.items():\n",
    "    print(f'Correlación entre {var} e incumplimiento: {coef:.2f}')\n"
   ]
  },
  {
   "cell_type": "code",
   "execution_count": 184,
   "metadata": {},
   "outputs": [
    {
     "name": "stdout",
     "output_type": "stream",
     "text": [
      "Correlación entre ponderacion_reportes_al_dia_18m_total e incumplimiento: -0.09\n",
      "Correlación entre part_ahorro_total e incumplimiento: -0.09\n",
      "Correlación entre cupo_disp_rotativo e incumplimiento: -0.07\n",
      "Correlación entre desv_recargas_pse_12m e incumplimiento: 0.06\n",
      "Correlación entre porcentaje_productos_48meses_total e incumplimiento: 0.06\n",
      "Correlación entre ponderacion_24m_rotativo e incumplimiento: -0.06\n",
      "Correlación entre id_cliente e incumplimiento: -0.05\n",
      "Correlación entre desv_retiros_atm_12m e incumplimiento: 0.05\n",
      "Correlación entre cupo_max_rotativo e incumplimiento: -0.05\n",
      "Correlación entre uso_total_prod_3m_rotativo e incumplimiento: 0.04\n",
      "Correlación entre porcentaje_cartera_vencida_telcos e incumplimiento: 0.04\n",
      "Correlación entre saldo_total_9_meses_rotativo e incumplimiento: -0.04\n",
      "Correlación entre cancel_pos_12m e incumplimiento: -0.04\n",
      "Correlación entre meses_apertura_ahorro e incumplimiento: 0.03\n",
      "Correlación entre prom_retiros_atm_12m e incumplimiento: 0.03\n",
      "Correlación entre monto_min_transado_1m e incumplimiento: -0.02\n",
      "Correlación entre monto_min_transado_2m e incumplimiento: 0.02\n",
      "Correlación entre saldo_prom_rotativo e incumplimiento: -0.02\n",
      "Correlación entre meses_cancel_telcos e incumplimiento: -0.02\n",
      "Correlación entre pct_productos_cerrados_rotativo e incumplimiento: -0.02\n",
      "Correlación entre meses_apertura_telcos e incumplimiento: 0.01\n",
      "Correlación entre meses_apertura_ultimo_prod_total e incumplimiento: 0.00\n",
      "Correlación entre meses_apertura_rotativo e incumplimiento: -0.00\n"
     ]
    }
   ],
   "source": [
    "\n",
    "correlaciones = {}\n",
    "\n",
    "for col in continuas:\n",
    "    coef, _ = pointbiserialr(train_sub[col], train_sub['incumplimiento'])\n",
    "    correlaciones[col] = coef\n",
    "\n",
    "correlaciones_ordenadas = dict(sorted(correlaciones.items(), key=lambda item: abs(item[1]), reverse=True))\n",
    "\n",
    "# Imprimir las variables ordenadas por su correlación con incumplimiento\n",
    "for var, coef in correlaciones_ordenadas.items():\n",
    "    print(f'Correlación entre {var} e incumplimiento: {coef:.2f}')"
   ]
  },
  {
   "cell_type": "markdown",
   "metadata": {},
   "source": [
    "`Correlaciones categoricas`\n",
    "\n",
    "Vamos a ver correlacion de chi2 y Kruskal-wallis"
   ]
  },
  {
   "cell_type": "code",
   "execution_count": 185,
   "metadata": {},
   "outputs": [],
   "source": [
    "from sklearn.feature_selection import chi2\n",
    "from sklearn.preprocessing import LabelEncoder\n"
   ]
  },
  {
   "cell_type": "markdown",
   "metadata": {},
   "source": [
    "`Chi cuadrado`"
   ]
  },
  {
   "cell_type": "code",
   "execution_count": 186,
   "metadata": {},
   "outputs": [
    {
     "name": "stdout",
     "output_type": "stream",
     "text": [
      "Variable: fecha_desembolso, Chi2 Score: 0.7951389716188196, p-value: 0.37255072273759626\n",
      "Variable: incumplimiento, Chi2 Score: 1847.0000000000002, p-value: 0.0\n",
      "Variable: tipo_cliente, Chi2 Score: 0.054527741788502115, p-value: 0.8153640392317011\n",
      "Variable: version_sistema_operativo, Chi2 Score: 2.1836714346140385, p-value: 0.13948137656217863\n",
      "Variable: productos_abiertos_ahorro, Chi2 Score: 0.19189061532572815, p-value: 0.661347711190462\n"
     ]
    }
   ],
   "source": [
    "\n",
    "# Codificar las variables categóricas como números\n",
    "le = LabelEncoder()\n",
    "for var in categoricas:\n",
    "    train[var] = le.fit_transform(train[var])\n",
    "\n",
    "# Usar la prueba chi2 para evaluar la importancia\n",
    "X_categoricas = train[categoricas]\n",
    "y = train['incumplimiento']\n",
    "\n",
    "chi_scores, p_values = chi2(X_categoricas, y)\n",
    "for i in range(len(categoricas)):\n",
    "    print(f\"Variable: {categoricas[i]}, Chi2 Score: {chi_scores[i]}, p-value: {p_values[i]}\")\n",
    "\n",
    "# Nada de lo enontrado aca es relevante para la variable de incidencia"
   ]
  },
  {
   "cell_type": "markdown",
   "metadata": {},
   "source": [
    "`Cramer's V`"
   ]
  },
  {
   "cell_type": "code",
   "execution_count": 187,
   "metadata": {},
   "outputs": [
    {
     "name": "stdout",
     "output_type": "stream",
     "text": [
      "Variable: fecha_desembolso, Cranmr's V: 0.0709\n",
      "Variable: incumplimiento, Cranmr's V: 0.9948\n",
      "Variable: tipo_cliente, Cranmr's V: 0.0027\n",
      "Variable: version_sistema_operativo, Cranmr's V: 0.0737\n",
      "Variable: productos_abiertos_ahorro, Cranmr's V: 0.0590\n"
     ]
    }
   ],
   "source": [
    "from scipy.stats import chi2_contingency\n",
    "def cramers_v(x, y):\n",
    "    tabla_contingencia = pd.crosstab(x, y)\n",
    "    chi2, p, dof, expected = chi2_contingency(tabla_contingencia)\n",
    "    n = tabla_contingencia.sum().sum()\n",
    "    cramers_v_value = np.sqrt(chi2 / (n * (min(tabla_contingencia.shape) - 1)))\n",
    "    return cramers_v_value\n",
    "\n",
    "for var in categoricas:\n",
    "    valor_cramers_v = cramers_v(train[var], train['incumplimiento'])\n",
    "    print(f\"Variable: {var}, Cranmr's V: {valor_cramers_v:.4f}\")"
   ]
  },
  {
   "cell_type": "markdown",
   "metadata": {},
   "source": [
    "`Kruskal-Wallis`"
   ]
  },
  {
   "cell_type": "code",
   "execution_count": 188,
   "metadata": {},
   "outputs": [
    {
     "name": "stdout",
     "output_type": "stream",
     "text": [
      "Variable: ponderacion_reportes_al_dia_18m_total, p-value: 0.0000\n",
      "Variable: cupo_disp_rotativo, p-value: 0.0000\n",
      "Variable: uso_total_prod_3m_rotativo, p-value: 0.0000\n",
      "Variable: porcentaje_cartera_vencida_telcos, p-value: 0.0000\n",
      "Variable: ponderacion_24m_rotativo, p-value: 0.0000\n",
      "Variable: cupo_max_rotativo, p-value: 0.0000\n",
      "Variable: pct_productos_cerrados_rotativo, p-value: 0.0002\n",
      "Variable: desv_retiros_atm_12m, p-value: 0.0002\n",
      "Variable: porcentaje_productos_48meses_total, p-value: 0.0004\n",
      "Variable: prom_retiros_atm_12m, p-value: 0.0012\n",
      "Variable: part_ahorro_total, p-value: 0.0078\n",
      "Variable: cancel_pos_12m, p-value: 0.0090\n",
      "Variable: meses_apertura_rotativo, p-value: 0.0105\n",
      "Variable: meses_apertura_telcos, p-value: 0.0319\n",
      "Variable: desv_recargas_pse_12m, p-value: 0.1648\n",
      "Variable: id_cliente, p-value: 0.1697\n",
      "Variable: meses_cancel_telcos, p-value: 0.2030\n",
      "Variable: meses_apertura_ultimo_prod_total, p-value: 0.2256\n",
      "Variable: saldo_prom_rotativo, p-value: 0.2409\n",
      "Variable: meses_apertura_ahorro, p-value: 0.4408\n",
      "Variable: monto_min_transado_2m, p-value: 0.6286\n",
      "Variable: saldo_total_9_meses_rotativo, p-value: 0.6537\n",
      "Variable: monto_min_transado_1m, p-value: 0.9916\n"
     ]
    }
   ],
   "source": [
    "from scipy.stats import kruskal\n",
    "\n",
    "resultados_kruskal = {}\n",
    "for var in continuas:\n",
    "    grupo_0 = train[train['incumplimiento'] == 0][var]\n",
    "    grupo_1 = train[train['incumplimiento'] == 1][var]\n",
    "    stat, p_value = kruskal(grupo_0, grupo_1)\n",
    "    resultados_kruskal[var] = p_value\n",
    "\n",
    "# Ordenar y mostrar los resultados por valor p\n",
    "resultados_kruskal_ordenados = dict(sorted(resultados_kruskal.items(), key=lambda item: item[1]))\n",
    "\n",
    "for var, p_value in resultados_kruskal_ordenados.items():\n",
    "    print(f\"Variable: {var}, p-value: {p_value:.4f}\")"
   ]
  },
  {
   "cell_type": "code",
   "execution_count": 189,
   "metadata": {},
   "outputs": [
    {
     "name": "stdout",
     "output_type": "stream",
     "text": [
      "Variable: ponderacion_reportes_al_dia_18m_total, p-value: 0.0002\n",
      "Variable: cancel_pos_12m, p-value: 0.0154\n",
      "Variable: part_ahorro_total, p-value: 0.0258\n",
      "Variable: desv_retiros_atm_12m, p-value: 0.0349\n",
      "Variable: prom_retiros_atm_12m, p-value: 0.0544\n",
      "Variable: cupo_disp_rotativo, p-value: 0.1526\n",
      "Variable: uso_total_prod_3m_rotativo, p-value: 0.1778\n",
      "Variable: porcentaje_productos_48meses_total, p-value: 0.1955\n",
      "Variable: id_cliente, p-value: 0.2343\n",
      "Variable: porcentaje_cartera_vencida_telcos, p-value: 0.3346\n",
      "Variable: desv_recargas_pse_12m, p-value: 0.3398\n",
      "Variable: ponderacion_24m_rotativo, p-value: 0.3467\n",
      "Variable: saldo_prom_rotativo, p-value: 0.4173\n",
      "Variable: cupo_max_rotativo, p-value: 0.5866\n",
      "Variable: monto_min_transado_2m, p-value: 0.6232\n",
      "Variable: saldo_total_9_meses_rotativo, p-value: 0.6839\n",
      "Variable: pct_productos_cerrados_rotativo, p-value: 0.7476\n",
      "Variable: meses_apertura_ultimo_prod_total, p-value: 0.7885\n",
      "Variable: meses_apertura_rotativo, p-value: 0.8520\n",
      "Variable: meses_apertura_ahorro, p-value: 0.8553\n",
      "Variable: meses_apertura_telcos, p-value: 0.9466\n",
      "Variable: monto_min_transado_1m, p-value: 0.9625\n",
      "Variable: meses_cancel_telcos, p-value: 0.9790\n"
     ]
    }
   ],
   "source": [
    "from scipy.stats import kruskal\n",
    "\n",
    "resultados_kruskal = {}\n",
    "for var in continuas:\n",
    "    grupo_0 = train_sub[train_sub['incumplimiento'] == 0][var]\n",
    "    grupo_1 = train_sub[train_sub['incumplimiento'] == 1][var]\n",
    "    stat, p_value = kruskal(grupo_0, grupo_1)\n",
    "    resultados_kruskal[var] = p_value\n",
    "\n",
    "# Ordenar y mostrar los resultados por valor p\n",
    "resultados_kruskal_ordenados = dict(sorted(resultados_kruskal.items(), key=lambda item: item[1]))\n",
    "\n",
    "for var, p_value in resultados_kruskal_ordenados.items():\n",
    "    print(f\"Variable: {var}, p-value: {p_value:.4f}\")"
   ]
  },
  {
   "cell_type": "markdown",
   "metadata": {},
   "source": [
    "`insights`\n",
    "\n",
    "La idea de todo este proeso era empezar a identificar aquellas variables que se podrian relacionar de manera directa para con el incumplimiento o no del pago. Ahora ya que tenemos esto, tenemos argumetnos para escoger algunas variables sobre otras. ¿Estas variables son explicartivas desde una perspetva del negocio? Esto es parte de la conversacion que ha de tenerse con el equipo. por ahora y a falta de contexto, se opta por tener en cuenta solo aquellas variables que son **estadisticamente signifiucativas** dado el valor p menos a 0.05\n",
    "\n",
    "Dado este contexto, se eliminan practicamente todas las variables categoricas. Tambien, las continuas parecen relevantes. Un metodo de seleccion automatico podria ser util.\n",
    "\n",
    "Nota: Al tener en cuenta que el dataset con mayor numero de valroes p es el que considera toda la poblacion sin discriminar opr objetivo y adicion, se decide finalmente trabajar con este dataframe.\n",
    "\n",
    "# Regresion Lasso"
   ]
  },
  {
   "cell_type": "code",
   "execution_count": 190,
   "metadata": {},
   "outputs": [],
   "source": [
    "from sklearn.preprocessing import OneHotEncoder, StandardScaler\n",
    "from sklearn.linear_model import LassoCV\n",
    "from sklearn.preprocessing import StandardScaler, LabelEncoder\n",
    "scaler = StandardScaler()"
   ]
  },
  {
   "cell_type": "code",
   "execution_count": 191,
   "metadata": {},
   "outputs": [
    {
     "name": "stdout",
     "output_type": "stream",
     "text": [
      "porcentaje_cartera_vencida_telcos        0.020664\n",
      "uso_total_prod_3m_rotativo               0.010966\n",
      "version_sistema_operativo_6              0.009400\n",
      "porcentaje_productos_48meses_total       0.005906\n",
      "productos_abiertos_ahorro_4              0.004385\n",
      "productos_abiertos_ahorro_8              0.002353\n",
      "desv_recargas_pse_12m                    0.002221\n",
      "desv_retiros_atm_12m                     0.002207\n",
      "monto_min_transado_2m                    0.000362\n",
      "version_sistema_operativo_2              0.000242\n",
      "saldo_prom_rotativo                     -0.000905\n",
      "productos_abiertos_ahorro_2             -0.002285\n",
      "cupo_max_rotativo                       -0.002373\n",
      "id_cliente                              -0.002924\n",
      "pct_productos_cerrados_rotativo         -0.006700\n",
      "part_ahorro_total                       -0.007239\n",
      "cupo_disp_rotativo                      -0.008830\n",
      "ponderacion_24m_rotativo                -0.010824\n",
      "ponderacion_reportes_al_dia_18m_total   -0.023321\n",
      "dtype: float64\n"
     ]
    }
   ],
   "source": [
    "categoricas = ['productos_abiertos_ahorro', 'version_sistema_operativo']\n",
    "# Variables seleccionadas\n",
    "variables_seleccionadas = categoricas + continuas\n",
    "\n",
    "# Extraer las columnas seleccionadas del conjunto de entrenamiento\n",
    "X_train = train[variables_seleccionadas]\n",
    "y_train = train['incumplimiento']  # 'incumplimiento' es la variable objetivo\n",
    "\n",
    "# Aplicar one-hot encoding a las variables categóricas\n",
    "X_train_encoded = pd.get_dummies(X_train, columns=categoricas, drop_first=True)\n",
    "\n",
    "# Escalar las variables\n",
    "scaler = StandardScaler()\n",
    "X_train_scaled = scaler.fit_transform(X_train_encoded)\n",
    "\n",
    "# Aplicar LassoCV para seleccionar las variables más importantes\n",
    "lasso = LassoCV(cv=5, random_state=42).fit(X_train_scaled, y_train)\n",
    "\n",
    "# Mostrar los coeficientes de las variables seleccionadas por Lasso\n",
    "lasso_coef = pd.Series(lasso.coef_, index=X_train_encoded.columns)\n",
    "lasso_coef_sorted = lasso_coef[lasso_coef != 0].sort_values(ascending=False)\n",
    "print(lasso_coef_sorted)"
   ]
  },
  {
   "cell_type": "markdown",
   "metadata": {},
   "source": [
    "Con esto se tiene una idea general del modelo sin embargo seria bueno optmizr el hiperparametro asociado a el modelo Lasso entonces:"
   ]
  },
  {
   "cell_type": "code",
   "execution_count": 192,
   "metadata": {},
   "outputs": [
    {
     "name": "stdout",
     "output_type": "stream",
     "text": [
      "Best alpha value: {'alpha': np.float64(0.0041320124001153384)}\n"
     ]
    }
   ],
   "source": [
    "from sklearn.model_selection import GridSearchCV\n",
    "from sklearn.linear_model import Lasso\n",
    "# varios rangos de valores para el alda\n",
    "alpha_range = {'alpha': np.logspace(-4, 4, 100)} \n",
    "lasso_model = Lasso()\n",
    "\n",
    "# Puna gruid search para el alpha\n",
    "grid_search = GridSearchCV(lasso_model, param_grid=alpha_range, cv=5)\n",
    "grid_search.fit(X_train_scaled, y_train)\n",
    "\n",
    "# Best alpha value\n",
    "print(\"Best alpha value:\", grid_search.best_params_)\n"
   ]
  },
  {
   "cell_type": "markdown",
   "metadata": {},
   "source": [
    "# Entrando modelo"
   ]
  },
  {
   "cell_type": "code",
   "execution_count": 193,
   "metadata": {},
   "outputs": [
    {
     "name": "stdout",
     "output_type": "stream",
     "text": [
      "Variables seleccionadas por Lasso (con mejor alpha):\n",
      " porcentaje_cartera_vencida_telcos        0.020764\n",
      "uso_total_prod_3m_rotativo               0.011065\n",
      "version_sistema_operativo_6              0.009523\n",
      "porcentaje_productos_48meses_total       0.005996\n",
      "productos_abiertos_ahorro_4              0.004551\n",
      "productos_abiertos_ahorro_8              0.002502\n",
      "desv_recargas_pse_12m                    0.002298\n",
      "desv_retiros_atm_12m                     0.002253\n",
      "monto_min_transado_2m                    0.000479\n",
      "version_sistema_operativo_2              0.000374\n",
      "saldo_prom_rotativo                     -0.001035\n",
      "productos_abiertos_ahorro_2             -0.002380\n",
      "cupo_max_rotativo                       -0.002445\n",
      "id_cliente                              -0.003055\n",
      "pct_productos_cerrados_rotativo         -0.006743\n",
      "part_ahorro_total                       -0.007415\n",
      "cupo_disp_rotativo                      -0.008832\n",
      "ponderacion_24m_rotativo                -0.010910\n",
      "ponderacion_reportes_al_dia_18m_total   -0.023317\n",
      "dtype: float64\n"
     ]
    }
   ],
   "source": [
    "\n",
    "best_alpha = 0.0041320124001153384\n",
    "\n",
    "lasso_best = Lasso(alpha=best_alpha)\n",
    "lasso_best.fit(X_train_scaled, y_train)\n",
    "\n",
    "lasso_best_coef = pd.Series(lasso_best.coef_, index=X_train_encoded.columns)\n",
    "lasso_best_coef_sorted = lasso_best_coef[lasso_best_coef != 0].sort_values(ascending=False)\n",
    "\n",
    "print(\"Variables seleccionadas por Lasso (con mejor alpha):\\n\", lasso_best_coef_sorted)\n"
   ]
  },
  {
   "cell_type": "markdown",
   "metadata": {},
   "source": [
    "Esto es meramente para la seleccion de vaiable s que seran usadas apra el modelo. Entonces en este proceso se procede a realizar el modelo de clasifiicacion con estas variables\n"
   ]
  },
  {
   "cell_type": "code",
   "execution_count": 194,
   "metadata": {},
   "outputs": [
    {
     "name": "stdout",
     "output_type": "stream",
     "text": [
      "['id_cliente', 'desv_retiros_atm_12m', 'monto_min_transado_1m', 'monto_min_transado_2m', 'desv_recargas_pse_12m', 'prom_retiros_atm_12m', 'cupo_disp_rotativo', 'meses_cancel_telcos', 'porcentaje_productos_48meses_total', 'meses_apertura_ultimo_prod_total', 'meses_apertura_telcos', 'meses_apertura_rotativo', 'porcentaje_cartera_vencida_telcos', 'saldo_prom_rotativo', 'uso_total_prod_3m_rotativo', 'cupo_max_rotativo', 'part_ahorro_total', 'pct_productos_cerrados_rotativo', 'meses_apertura_ahorro', 'saldo_total_9_meses_rotativo', 'cancel_pos_12m', 'ponderacion_reportes_al_dia_18m_total', 'ponderacion_24m_rotativo']\n",
      "['productos_abiertos_ahorro', 'version_sistema_operativo']\n"
     ]
    }
   ],
   "source": [
    "variables_lasso = [\n",
    "    'porcentaje_cartera_vencida_telcos', 'uso_total_prod_3m_rotativo', \n",
    "    'version_sistema_operativo_6', 'porcentaje_productos_48meses_total', \n",
    "    'productos_abiertos_ahorro_4', 'productos_abiertos_ahorro_8', \n",
    "    'desv_recargas_pse_12m', 'desv_retiros_atm_12m', 'monto_min_transado_2m', \n",
    "    'version_sistema_operativo_2', 'saldo_prom_rotativo', \n",
    "    'productos_abiertos_ahorro_2', 'cupo_max_rotativo', 'id_cliente', \n",
    "    'pct_productos_cerrados_rotativo', 'part_ahorro_total', \n",
    "    'cupo_disp_rotativo', 'ponderacion_24m_rotativo', \n",
    "    'ponderacion_reportes_al_dia_18m_total'\n",
    "]\n",
    "print(continuas)\n",
    "print(categoricas)\n"
   ]
  },
  {
   "cell_type": "code",
   "execution_count": 198,
   "metadata": {},
   "outputs": [
    {
     "data": {
      "text/plain": [
       "0.9497178040020523"
      ]
     },
     "execution_count": 198,
     "metadata": {},
     "output_type": "execute_result"
    }
   ],
   "source": [
    "from sklearn.linear_model import LogisticRegression\n",
    "from sklearn.preprocessing import StandardScaler\n",
    "from sklearn.metrics import accuracy_score, classification_report\n",
    "# Load the datasets\n",
    "new_train =pd.read_csv('../data/processed/train_processed.csv')\n",
    "new_test = pd.read_csv('../data/processed/test_processed.csv')\n",
    "\n",
    "# Filter the selected variables for Lasso regression\n",
    "selected_columns_new = [col for col in variables_lasso if col in new_train.columns]\n",
    "\n",
    "# Separate the features (X) and the target (y)\n",
    "X_train_new = new_train[selected_columns_new]\n",
    "y_train_new = new_train['incumplimiento']\n",
    "\n",
    "X_test_new = new_test[selected_columns_new]\n",
    "\n",
    "# Normalizing the continuous variables\n",
    "scaler = StandardScaler()\n",
    "X_train_scaled_new = scaler.fit_transform(X_train_new)\n",
    "X_test_scaled_new = scaler.transform(X_test_new)\n",
    "\n",
    "# Fit a logistic regression model with the new preprocessed data\n",
    "log_reg_new = LogisticRegression(max_iter=1000)\n",
    "log_reg_new.fit(X_train_scaled_new, y_train_new)\n",
    "\n",
    "# Make predictions\n",
    "y_pred_train_new = log_reg_new.predict(X_train_scaled_new)\n",
    "\n",
    "# Evaluating the model on the training set\n",
    "train_accuracy_new = accuracy_score(y_train_new, y_pred_train_new)\n",
    "train_accuracy_new\n"
   ]
  },
  {
   "cell_type": "code",
   "execution_count": 199,
   "metadata": {},
   "outputs": [
    {
     "data": {
      "image/png": "[encoded data removed]",
      "text/plain": [
       "<Figure size 800x600 with 1 Axes>"
      ]
     },
     "metadata": {},
     "output_type": "display_data"
    }
   ],
   "source": [
    "from sklearn.metrics import confusion_matrix\n",
    "import matplotlib.pyplot as plt\n",
    "import seaborn as sns\n",
    "\n",
    "# Calcular la matriz de confusión para el conjunto de entrenamiento\n",
    "conf_matrix = confusion_matrix(y_train_new, y_pred_train_new)\n",
    "\n",
    "# Visualizar la matriz de confusión\n",
    "plt.figure(figsize=(8, 6))\n",
    "sns.heatmap(conf_matrix, annot=True, fmt=\"d\", cmap=\"Blues\", cbar=False)\n",
    "plt.xlabel(\"Predicted\")\n",
    "plt.ylabel(\"Actual\")\n",
    "plt.title(\"Confusion Matrix - Training Set\")\n",
    "plt.show()\n"
   ]
  },
  {
   "cell_type": "code",
   "execution_count": 201,
   "metadata": {},
   "outputs": [
    {
     "data": {
      "text/plain": [
       "array([1.00000000e-04, 1.20450354e-04, 1.45082878e-04, 1.74752840e-04,\n",
       "       2.10490414e-04, 2.53536449e-04, 3.05385551e-04, 3.67837977e-04,\n",
       "       4.43062146e-04, 5.33669923e-04, 6.42807312e-04, 7.74263683e-04,\n",
       "       9.32603347e-04, 1.12332403e-03, 1.35304777e-03, 1.62975083e-03,\n",
       "       1.96304065e-03, 2.36448941e-03, 2.84803587e-03, 3.43046929e-03,\n",
       "       4.13201240e-03, 4.97702356e-03, 5.99484250e-03, 7.22080902e-03,\n",
       "       8.69749003e-03, 1.04761575e-02, 1.26185688e-02, 1.51991108e-02,\n",
       "       1.83073828e-02, 2.20513074e-02, 2.65608778e-02, 3.19926714e-02,\n",
       "       3.85352859e-02, 4.64158883e-02, 5.59081018e-02, 6.73415066e-02,\n",
       "       8.11130831e-02, 9.77009957e-02, 1.17681195e-01, 1.41747416e-01,\n",
       "       1.70735265e-01, 2.05651231e-01, 2.47707636e-01, 2.98364724e-01,\n",
       "       3.59381366e-01, 4.32876128e-01, 5.21400829e-01, 6.28029144e-01,\n",
       "       7.56463328e-01, 9.11162756e-01, 1.09749877e+00, 1.32194115e+00,\n",
       "       1.59228279e+00, 1.91791026e+00, 2.31012970e+00, 2.78255940e+00,\n",
       "       3.35160265e+00, 4.03701726e+00, 4.86260158e+00, 5.85702082e+00,\n",
       "       7.05480231e+00, 8.49753436e+00, 1.02353102e+01, 1.23284674e+01,\n",
       "       1.48496826e+01, 1.78864953e+01, 2.15443469e+01, 2.59502421e+01,\n",
       "       3.12571585e+01, 3.76493581e+01, 4.53487851e+01, 5.46227722e+01,\n",
       "       6.57933225e+01, 7.92482898e+01, 9.54548457e+01, 1.14975700e+02,\n",
       "       1.38488637e+02, 1.66810054e+02, 2.00923300e+02, 2.42012826e+02,\n",
       "       2.91505306e+02, 3.51119173e+02, 4.22924287e+02, 5.09413801e+02,\n",
       "       6.13590727e+02, 7.39072203e+02, 8.90215085e+02, 1.07226722e+03,\n",
       "       1.29154967e+03, 1.55567614e+03, 1.87381742e+03, 2.25701972e+03,\n",
       "       2.71858824e+03, 3.27454916e+03, 3.94420606e+03, 4.75081016e+03,\n",
       "       5.72236766e+03, 6.89261210e+03, 8.30217568e+03, 1.00000000e+04])"
      ]
     },
     "execution_count": 201,
     "metadata": {},
     "output_type": "execute_result"
    }
   ],
   "source": [
    "np.logspace(-4, 4, 100)"
   ]
  },
  {
   "cell_type": "markdown",
   "metadata": {},
   "source": [
    "# Rdge - Lasso - PCA\n",
    "\n",
    "El objetivo de este ejercicio es finalmente generar una prediccion que sea fuerte desde lo teorico. Ridge penaliza ante el supuesto de que hay algunas variables que tienen mayor preponderancia que otrsa (esto se vio desde el descriptivo *no es este caso*). Lasso por otro lado busca penalizar con hipermparametro de 'suavizdo'esto es bueno en tanto se sospéchja todas las features aportan un poco pero no es claro cual es la que mas.\n",
    "\n",
    "**Con mayor tiempo y poder computacional se podria proponer** un ejercicio en el cual se use tanto Ridge como Lasso con diferentes modelos ajustados con cada uno de estos. Crear una 'malla' de modelos en los cuales a cada uno se le asigne un id, puntaje de error de clasificacin y escger el mejor pero obvio, esto requiere tiempoy esfuerzso computacional. Y lamentablemente mi abue en el hospital y el trabajo no me permite tener mucho tiempo. Y mi Corei 5 de 8va generacion tampoco ayuda... Pero esto es algo a tener presente.\n",
    "\n",
    "Por otro lado PCA es un excelente analisis suponiendo linealida entre los datos. Permite de manera directa capturar toda la variabildiad posible con un 'simple' cambio de ejes. Ahora bien... Si la data no es lineal o si la interpretacion es relevante... Valió madres PCA. Aun asi se procede a ejecutar el analisis con PCA y Lasso. Veamos que nos depara el analisis en el modelado. \n",
    "\n",
    "\n",
    "Sobra decir que **este parrafo no lo escribió ChatGPT**. No todo puede ser una IA, ¿O si?\n",
    "\n",
    "NOTA: A falta de tiempo, meto PCA directamente en el Script. No hubo poder computacional en el EDAE paraa mirar histogramas ed los dataframes completos. Aunque reconozco que es alog extraño... En fin. COntinuad leyendo el analisis c:"
   ]
  }
 ],
 "metadata": {
  "kernelspec": {
   "display_name": "venv",
   "language": "python",
   "name": "python3"
  },
  "language_info": {
   "codemirror_mode": {
    "name": "ipython",
    "version": 3
   },
   "file_extension": ".py",
   "mimetype": "text/x-python",
   "name": "python",
   "nbconvert_exporter": "python",
   "pygments_lexer": "ipython3",
   "version": "3.12.4"
  }
 },
 "nbformat": 4,
 "nbformat_minor": 2
}
